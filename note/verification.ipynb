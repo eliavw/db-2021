{
 "cells": [
  {
   "cell_type": "markdown",
   "metadata": {},
   "source": [
    "# Verification\n",
    "\n",
    "# Imports"
   ]
  },
  {
   "cell_type": "code",
   "execution_count": null,
   "metadata": {},
   "outputs": [],
   "source": [
    "# Imports van binnen onze eigen repository\n",
    "import sys\n",
    "from pathlib import Path\n",
    "sys.path.append(str(Path().absolute().parent / \"src\"))\n",
    "\n",
    "from db_project import (\n",
    "    verbind_met_GB,\n",
    "    run_external_script,\n",
    "    evaluate_script,\n",
    "    toon_uitleg,\n",
    "    DOC_FPS,\n",
    "    DEMO_Q_PARAMS_FP,\n",
    "    ALL_Q_PARAMS_FP, # NB: Deze file zit uiteraard niet in de repo tot we deze releasen.\n",
    "    DUMMY_SOLUTION_FP,\n",
    "    MODEL_SOLUTION_FP, # NB: Deze file zit uiteraard niet in de repo tot we deze releasen.\n",
    ")\n"
   ]
  },
  {
   "cell_type": "code",
   "execution_count": null,
   "metadata": {},
   "outputs": [],
   "source": [
    "# Tekst en uitleg wordt ingelezen uit bestanden uit de `docs` folder.\n",
    "toon_uitleg(DOC_FPS.get(\"verification\"), sectie=[1,2])"
   ]
  },
  {
   "cell_type": "code",
   "execution_count": null,
   "metadata": {},
   "outputs": [],
   "source": [
    "# STAP 01: Verbindingsobject aanmaken\n",
    "\n",
    "username = 'root'      # Vervang dit als je via een andere user queries stuurt\n",
    "hostname = 'localhost' # Als je een databank lokaal draait, is dit localhost.\n",
    "db = 'db-project'          # Naam van de gegevensbank op je XAMPP Mysql server\n",
    "\n",
    "# We verbinden met de gegevensbank\n",
    "c = verbind_met_GB(username, hostname, db, password='')"
   ]
  },
  {
   "cell_type": "code",
   "execution_count": null,
   "metadata": {},
   "outputs": [],
   "source": [
    "# STAP 02: Specifieer filenames van script en parameters\n",
    "\n",
    "parameters_filename = str(DEMO_Q_PARAMS_FP) \n",
    "# parameters_filename = str(ALL_Q_PARAMS_FP) # Na release van modeloplossing: uncomment deze lijn om onze parameters te gebruiken.\n",
    "\n",
    "ingevulde_oplossing_filename = str(DUMMY_SOLUTION_FP)  # VERVANG DIT DOOR JOUW FILENAME ALS JE JE OPLOSSING ZELF WIL VERIFIËREN!"
   ]
  },
  {
   "cell_type": "code",
   "execution_count": null,
   "metadata": {},
   "outputs": [],
   "source": [
    "# Enkele checks alvorens over te gaan tot effectief runnen van het script\n",
    "\n",
    "if Path(ingevulde_oplossing_filename).exists() and Path(parameters_filename).exists():\n",
    "    msg = \"\"\"\n",
    "    We gaan dit script runnen:\n",
    "        {}\n",
    "    Met deze parameters:\n",
    "        {}\n",
    "    \"\"\".format(ingevulde_oplossing_filename, parameters_filename)\n",
    "    \n",
    "    print(msg)\n",
    "else:\n",
    "    msg = \"\"\"\n",
    "    Oplossingsfile gevonden: {}\n",
    "    Parametersfile gevonden: {}\n",
    "    \n",
    "    Los dit probleem op indien je je script wil runnen.\n",
    "    \"\"\".format(Path(ingevulde_oplossing_filename).exists(), Path(parameters_filename).exists())\n",
    "    print(msg)\n",
    "    \n",
    "    assert False # STOP HIER."
   ]
  },
  {
   "cell_type": "code",
   "execution_count": null,
   "metadata": {},
   "outputs": [],
   "source": [
    "# STAP 03: Run je oplossingen\n",
    "run_external_script(ingevulde_oplossing_filename, c, params_fname=parameters_filename)"
   ]
  },
  {
   "cell_type": "code",
   "execution_count": null,
   "metadata": {},
   "outputs": [],
   "source": [
    "toon_uitleg(DOC_FPS.get(\"verification\"), sectie=3)"
   ]
  },
  {
   "cell_type": "code",
   "execution_count": null,
   "metadata": {},
   "outputs": [],
   "source": [
    "print(evaluate_script(ingevulde_oplossing_filename, params_fname=parameters_filename))"
   ]
  },
  {
   "cell_type": "code",
   "execution_count": null,
   "metadata": {},
   "outputs": [],
   "source": [
    "toon_uitleg(DOC_FPS.get(\"verification\"), sectie=4)"
   ]
  }
 ],
 "metadata": {
  "kernelspec": {
   "display_name": "db",
   "language": "python",
   "name": "db"
  },
  "language_info": {
   "codemirror_mode": {
    "name": "ipython",
    "version": 3
   },
   "file_extension": ".py",
   "mimetype": "text/x-python",
   "name": "python",
   "nbconvert_exporter": "python",
   "pygments_lexer": "ipython3",
   "version": "3.9.2"
  },
  "toc": {
   "nav_menu": {},
   "number_sections": true,
   "sideBar": true,
   "skip_h1_title": true,
   "title_cell": "Table of Contents",
   "title_sidebar": "Contents",
   "toc_cell": false,
   "toc_position": {},
   "toc_section_display": true,
   "toc_window_display": true
  }
 },
 "nbformat": 4,
 "nbformat_minor": 4
}
