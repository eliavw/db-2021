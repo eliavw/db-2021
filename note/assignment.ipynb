{
 "cells": [
  {
   "cell_type": "markdown",
   "metadata": {},
   "source": [
    "# PROJECT GEGEVENSBANKEN - SQL"
   ]
  },
  {
   "cell_type": "markdown",
   "metadata": {
    "tags": []
   },
   "source": [
    "# Imports"
   ]
  },
  {
   "cell_type": "code",
   "execution_count": null,
   "metadata": {},
   "outputs": [],
   "source": [
    "# Setup\n",
    "import sys\n",
    "import getpass  # Package om een paswoordveldje te genereren.\n",
    "import json  # Package om .json files in te laden (bvb kolomnamen zijn zo opgeslagen)\n",
    "import mysql.connector  # MySQL package\n",
    "import pandas as pd  # Populaire package voor data-verwerking\n",
    "\n",
    "from pathlib import Path\n",
    "from inspect import getsource"
   ]
  },
  {
   "cell_type": "code",
   "execution_count": null,
   "metadata": {},
   "outputs": [],
   "source": [
    "# Imports van binnen onze eigen repository\n",
    "sys.path.append(str(Path().absolute().parent / \"src\"))\n",
    "\n",
    "from db_project import (\n",
    "    verbind_met_GB,\n",
    "    run_query,\n",
    "    res_to_df,\n",
    "    toon_uitleg,\n",
    "    DOC_FPS,\n",
    "    DEMO_Q_PARAMS_FP,\n",
    "    ALL_Q_COLNAM_FP,\n",
    ")\n"
   ]
  },
  {
   "cell_type": "code",
   "execution_count": null,
   "metadata": {
    "toc-hr-collapsed": false
   },
   "outputs": [],
   "source": [
    "# Tekst en uitleg wordt ingelezen uit bestanden uit de `docs` folder.\n",
    "toon_uitleg(DOC_FPS.get(\"intro\"), sectie=[1, 2, 3])"
   ]
  },
  {
   "cell_type": "code",
   "execution_count": null,
   "metadata": {},
   "outputs": [],
   "source": [
    "print(\"\\n- --- - --- - --- - --- - --- - --- - - --- - --- - --- - --- - --- - --- -\\n\")\n",
    "print(getsource(verbind_met_GB))\n",
    "print(\"\\n- --- - --- - --- - --- - --- - --- - - --- - --- - --- - --- - --- - --- -\\n\")\n",
    "print(getsource(run_query))\n",
    "print(\"\\n- --- - --- - --- - --- - --- - --- - - --- - --- - --- - --- - --- - --- -\\n\")\n",
    "print(getsource(res_to_df))"
   ]
  },
  {
   "cell_type": "code",
   "execution_count": null,
   "metadata": {},
   "outputs": [],
   "source": [
    "toon_uitleg(DOC_FPS.get(\"intro\"), sectie=4)"
   ]
  },
  {
   "cell_type": "code",
   "execution_count": null,
   "metadata": {},
   "outputs": [],
   "source": [
    "# Lees de dictionairy van kolomnamen in\n",
    "col_names = json.load(open(ALL_Q_COLNAM_FP, \"r\"))\n",
    "\n",
    "# Inspecteer de dictionairy van kolomnamen\n",
    "for k, v in col_names.items():\n",
    "    msg = \"Kolomnamen van {}: {} \\n\".format(k, v)\n",
    "    print(msg)"
   ]
  },
  {
   "cell_type": "code",
   "execution_count": null,
   "metadata": {},
   "outputs": [],
   "source": [
    "toon_uitleg(DOC_FPS.get(\"instructions\"), sectie=[1, 2])"
   ]
  },
  {
   "cell_type": "code",
   "execution_count": null,
   "metadata": {},
   "outputs": [],
   "source": [
    "# Voorbeeld-query (oplossing)\n",
    "def query_voorbeeld(connection, column_names, homeruns=20):\n",
    "    # Bouw je query\n",
    "    query = \"\"\"\n",
    "    select    t.name, t.yearID, t.HR\n",
    "    from      Teams as t\n",
    "    where     t.HR > {}\n",
    "    order by  t.HR DESC;\n",
    "    \"\"\".format(\n",
    "        homeruns\n",
    "    )\n",
    "    # TIP: Met \"format\" krijg je parameters in de string (samen met `{}` in de string zelf)\n",
    "\n",
    "    # Stap 2 & 3\n",
    "    res = run_query(connection, query)  # Query uitvoeren\n",
    "    df = res_to_df(res, column_names)  # Query in DataFrame brengen\n",
    "\n",
    "    return df"
   ]
  },
  {
   "cell_type": "code",
   "execution_count": null,
   "metadata": {},
   "outputs": [],
   "source": [
    "toon_uitleg(DOC_FPS.get(\"instructions\"), sectie=3)"
   ]
  },
  {
   "cell_type": "code",
   "execution_count": null,
   "metadata": {
    "hidden": true
   },
   "outputs": [],
   "source": [
    "# Verbindingsobject aanmaken\n",
    "\n",
    "username = 'root'      # Vervang dit als je via een andere user queries stuurt\n",
    "hostname = 'localhost' # Als je een databank lokaal draait, is de hostname meestal gewoon \"localhost\"\n",
    "db = 'db-project'          # Naam van de gegevensbank op je XAMPP Mysql server\n",
    "\n",
    "# We verbinden met de gegevensbank, deze functie heeft als output een `connection-object`.\n",
    "c = verbind_met_GB(username, hostname, db, password='')"
   ]
  },
  {
   "cell_type": "code",
   "execution_count": null,
   "metadata": {
    "hidden": true
   },
   "outputs": [],
   "source": [
    "# Query runnen, resultaat ophalen en inspecteren.\n",
    "\n",
    "# De query-functie verwacht als tweede parameter de kolomnamen van het resultaat.\n",
    "kolomnamen_voorbeeldquery = [\"name\", \"yearID\", \"HR\"]\n",
    "\n",
    "# Query-functie uitvoeren, geeft resultaat van de query in een DataFrame\n",
    "df = query_voorbeeld(c, kolomnamen_voorbeeldquery, homeruns=10)   \n",
    "\n",
    "# Inspecteer laatste resultaten (laat. tail() weg om alles te zien)\n",
    "df.tail()            "
   ]
  },
  {
   "cell_type": "code",
   "execution_count": null,
   "metadata": {
    "hidden": true
   },
   "outputs": [],
   "source": [
    "# EXTRA: Query runnen met andere parameterwaarde\n",
    "df = query_voorbeeld(c, kolomnamen_voorbeeldquery, homeruns=30)\n",
    "df.tail()                                                "
   ]
  },
  {
   "cell_type": "markdown",
   "metadata": {},
   "source": [
    "## 3. Queries"
   ]
  },
  {
   "cell_type": "code",
   "execution_count": null,
   "metadata": {},
   "outputs": [],
   "source": [
    "toon_uitleg(DOC_FPS.get(\"query_description\"), sectie=1)"
   ]
  },
  {
   "cell_type": "code",
   "execution_count": null,
   "metadata": {},
   "outputs": [],
   "source": [
    "def query_01(connection, column_names, X=150):\n",
    "\n",
    "    # Bouw je query\n",
    "    query = \"\"\"\n",
    "    MAAK QUERY HIER\n",
    "    \"\"\"\n",
    "\n",
    "    # Stap 2 & 3\n",
    "    res = run_query(connection, query)  # Query uitvoeren\n",
    "    df = res_to_df(res, column_names)  # Query in DataFrame brengen\n",
    "\n",
    "    return df"
   ]
  },
  {
   "cell_type": "code",
   "execution_count": null,
   "metadata": {},
   "outputs": [],
   "source": [
    "toon_uitleg(DOC_FPS.get(\"query_description\"), sectie=2)"
   ]
  },
  {
   "cell_type": "code",
   "execution_count": null,
   "metadata": {},
   "outputs": [],
   "source": [
    "def query_02(connection, column_names):\n",
    "\n",
    "    # Bouw je query\n",
    "    query = \"\"\"\n",
    "    MAAK QUERY HIER\n",
    "    \"\"\"\n",
    "\n",
    "    # Stap 2 & 3\n",
    "    res = run_query(connection, query)  # Query uitvoeren\n",
    "    df = res_to_df(res, column_names)  # Query in DataFrame brengen\n",
    "\n",
    "    return df"
   ]
  },
  {
   "cell_type": "code",
   "execution_count": null,
   "metadata": {},
   "outputs": [],
   "source": [
    "toon_uitleg(DOC_FPS.get(\"query_description\"), sectie=3)"
   ]
  },
  {
   "cell_type": "code",
   "execution_count": null,
   "metadata": {},
   "outputs": [],
   "source": [
    "def query_03(connection, column_names, X=\"Blue\"):\n",
    "\n",
    "    # Bouw je query\n",
    "    query = \"\"\"\n",
    "    MAAK QUERY HIER\n",
    "    \"\"\"\n",
    "\n",
    "    # Stap 2 & 3\n",
    "    res = run_query(connection, query)  # Query uitvoeren\n",
    "    df = res_to_df(res, column_names)  # Query in DataFrame brengen\n",
    "\n",
    "    return df"
   ]
  },
  {
   "cell_type": "code",
   "execution_count": null,
   "metadata": {},
   "outputs": [],
   "source": [
    "toon_uitleg(DOC_FPS.get(\"query_description\"), sectie=4)"
   ]
  },
  {
   "cell_type": "code",
   "execution_count": null,
   "metadata": {},
   "outputs": [],
   "source": [
    "def query_04(connection, column_names, X=3):\n",
    "\n",
    "    # Bouw je query\n",
    "    query = \"\"\"\n",
    "    MAAK QUERY HIER\n",
    "    \"\"\"\n",
    "\n",
    "    # Stap 2 & 3\n",
    "    res = run_query(connection, query)  # Query uitvoeren\n",
    "    df = res_to_df(res, column_names)  # Query in DataFrame brengen\n",
    "\n",
    "    return df"
   ]
  },
  {
   "cell_type": "code",
   "execution_count": null,
   "metadata": {},
   "outputs": [],
   "source": [
    "toon_uitleg(DOC_FPS.get(\"query_description\"), sectie=5)"
   ]
  },
  {
   "cell_type": "code",
   "execution_count": null,
   "metadata": {},
   "outputs": [],
   "source": [
    "def query_05(connection, column_names, X=1975):\n",
    "\n",
    "    # Bouw je query\n",
    "    query = \"\"\"\n",
    "    MAAK QUERY HIER\n",
    "    \"\"\"\n",
    "\n",
    "    # Stap 2 & 3\n",
    "    res = run_query(connection, query)  # Query uitvoeren\n",
    "    df = res_to_df(res, column_names)  # Query in DataFrame brengen\n",
    "\n",
    "    return df"
   ]
  },
  {
   "cell_type": "code",
   "execution_count": null,
   "metadata": {},
   "outputs": [],
   "source": [
    "toon_uitleg(DOC_FPS.get(\"query_description\"), sectie=6)"
   ]
  },
  {
   "cell_type": "code",
   "execution_count": null,
   "metadata": {},
   "outputs": [],
   "source": [
    "def query_06(connection, column_names):\n",
    "\n",
    "    # Bouw je query\n",
    "    query = \"\"\"\n",
    "    MAAK QUERY HIER\n",
    "    \"\"\"\n",
    "\n",
    "    # Stap 2 & 3\n",
    "    res = run_query(connection, query)  # Query uitvoeren\n",
    "    df = res_to_df(res, column_names)  # Query in DataFrame brengen\n",
    "\n",
    "    return df"
   ]
  },
  {
   "cell_type": "code",
   "execution_count": null,
   "metadata": {},
   "outputs": [],
   "source": [
    "toon_uitleg(DOC_FPS.get(\"query_description\"), sectie=7)"
   ]
  },
  {
   "cell_type": "code",
   "execution_count": null,
   "metadata": {},
   "outputs": [],
   "source": [
    "def query_07(connection, column_names, X=1950):\n",
    "\n",
    "    # Bouw je query\n",
    "    query = \"\"\"\n",
    "    MAAK QUERY HIER\n",
    "    \"\"\"\n",
    "\n",
    "    # Stap 2 & 3\n",
    "    res = run_query(connection, query)  # Query uitvoeren\n",
    "    df = res_to_df(res, column_names)  # Query in DataFrame brengen\n",
    "\n",
    "    return df"
   ]
  },
  {
   "cell_type": "code",
   "execution_count": null,
   "metadata": {},
   "outputs": [],
   "source": [
    "toon_uitleg(DOC_FPS.get(\"query_description\"), sectie=8)"
   ]
  },
  {
   "cell_type": "code",
   "execution_count": null,
   "metadata": {},
   "outputs": [],
   "source": [
    "def query_08(connection, column_names, N=5, R=1):\n",
    "\n",
    "    # Bouw je query\n",
    "    query = \"\"\"\n",
    "    MAAK QUERY HIER\n",
    "    \"\"\"\n",
    "\n",
    "    # Stap 2 & 3\n",
    "    res = run_query(connection, query)  # Query uitvoeren\n",
    "    df = res_to_df(res, column_names)  # Query in DataFrame brengen\n",
    "\n",
    "    return df"
   ]
  },
  {
   "cell_type": "code",
   "execution_count": null,
   "metadata": {},
   "outputs": [],
   "source": [
    "toon_uitleg(DOC_FPS.get(\"submissions\"), sectie=1)"
   ]
  }
 ],
 "metadata": {
  "kernelspec": {
   "display_name": "db",
   "language": "python",
   "name": "db"
  },
  "language_info": {
   "codemirror_mode": {
    "name": "ipython",
    "version": 3
   },
   "file_extension": ".py",
   "mimetype": "text/x-python",
   "name": "python",
   "nbconvert_exporter": "python",
   "pygments_lexer": "ipython3",
   "version": "3.9.2"
  },
  "toc": {
   "nav_menu": {},
   "number_sections": true,
   "sideBar": true,
   "skip_h1_title": true,
   "toc_cell": false,
   "toc_position": {
    "height": "887px",
    "left": "0px",
    "right": "1705px",
    "top": "107px",
    "width": "215px"
   },
   "toc_section_display": true,
   "toc_window_display": true
  },
  "toc-autonumbering": false
 },
 "nbformat": 4,
 "nbformat_minor": 4
}
