{
 "cells": [
  {
   "cell_type": "markdown",
   "metadata": {},
   "source": [
    "# PROJECT GEGEVENSBANKEN - SQL"
   ]
  },
  {
   "cell_type": "markdown",
   "metadata": {
    "tags": []
   },
   "source": [
    "# Imports"
   ]
  },
  {
   "cell_type": "code",
   "execution_count": 1,
   "metadata": {},
   "outputs": [],
   "source": [
    "# Setup\n",
    "import sys\n",
    "import getpass  # Package om een paswoordveldje te genereren.\n",
    "import json  # Package om .json files in te laden (bvb kolomnamen zijn zo opgeslagen)\n",
    "import mysql.connector  # MySQL package\n",
    "import pandas as pd  # Populaire package voor data-verwerking\n",
    "\n",
    "from pathlib import Path\n",
    "from inspect import getsource"
   ]
  },
  {
   "cell_type": "code",
   "execution_count": 2,
   "metadata": {},
   "outputs": [],
   "source": [
    "# Imports van binnen onze eigen repository\n",
    "sys.path.append(str(Path().absolute().parent / \"src\"))\n",
    "\n",
    "from db_project import (\n",
    "    verbind_met_GB,\n",
    "    run_query,\n",
    "    res_to_df,\n",
    "    toon_uitleg,\n",
    "    DOC_FPS,\n",
    "    DEMO_Q_PARAMS_FP,\n",
    "    ALL_Q_COLNAM_FP,\n",
    ")\n"
   ]
  },
  {
   "cell_type": "code",
   "execution_count": 3,
   "metadata": {
    "toc-hr-collapsed": false
   },
   "outputs": [
    {
     "data": {
      "text/markdown": [
       "# 1. Inleiding\n",
       "\n",
       "Zie het document `prerequisites.pdf` in de `docs` folder voor installatiehulp van XAMPP etc.\n",
       "\n",
       "## 1.1 Python packages\n",
       "\n",
       "De import statements (cf. boven) vormen de standaardconfiguratie van python-packages die we gebruiken. _Van deze configuratie afwijken is dan ook op eigen risico, gezien dat betekent dat je ook afwijkt van de configuratie van de computer waarop wij jullie oplossingen runnen._\n",
       "\n",
       "## 1.2 Interageren met een gegevensbank\n",
       "\n",
       "Naast de standaard packages, importeren we ook drie zelfgemaakte functies. Deze implementeren functionaliteiten die je vaak zal nodig hebben als je vanuit python queries naar je gegevensbank wil sturen: `verbind_met_GB`, `run_query` en `res_to_df`. Hun source code (en documentatie) bekijken geeft de nodige informatie over hoe ze te gebruiken:\n",
       "    \n",
       "    \n"
      ],
      "text/plain": [
       "<IPython.core.display.Markdown object>"
      ]
     },
     "metadata": {},
     "output_type": "display_data"
    }
   ],
   "source": [
    "# Tekst en uitleg wordt ingelezen uit bestanden uit de `docs` folder.\n",
    "toon_uitleg(DOC_FPS.get(\"intro\"), sectie=[1, 2, 3])"
   ]
  },
  {
   "cell_type": "code",
   "execution_count": 4,
   "metadata": {},
   "outputs": [
    {
     "name": "stdout",
     "output_type": "stream",
     "text": [
      "\n",
      "- --- - --- - --- - --- - --- - --- - - --- - --- - --- - --- - --- - --- -\n",
      "\n",
      "def verbind_met_GB(username, hostname, gegevensbanknaam, password=None):\n",
      "    \"\"\"\n",
      "    Maak verbinding met een externe gegevensbank\n",
      "\n",
      "    Parameters\n",
      "    ----------\n",
      "\n",
      "    username:           str\n",
      "                        Username van de gebruiker\n",
      "    hostname            str\n",
      "                        Naam van de host. In het geval van lokale server 'localhost'\n",
      "    gegevensbanknaam    str\n",
      "                        Naam van de gegevensbank\n",
      "    password            str, None\n",
      "                        Wachtwoord kan al meegegeven worden. Indien niet, wordt\n",
      "                        een wachtwoordveldje gegenereerd waar de gebruiker het\n",
      "                        kan ingeven.\n",
      "    Returns\n",
      "    -------\n",
      "    connection          connection object\n",
      "                        Dit is het soort object dat wordt teruggeven door\n",
      "                        connect() methods van packages die voldoen aan de DB-API\n",
      "\n",
      "    \"\"\"\n",
      "\n",
      "    if password is None:\n",
      "        password = getpass.getpass()  # Genereer vakje voor wachtwoord in te geven\n",
      "    else:\n",
      "        password = password\n",
      "\n",
      "    connection = mysql.connector.connect(\n",
      "        host=hostname, user=username, passwd=password, db=gegevensbanknaam\n",
      "    )\n",
      "    return connection\n",
      "\n",
      "\n",
      "- --- - --- - --- - --- - --- - --- - - --- - --- - --- - --- - --- - --- -\n",
      "\n",
      "def run_query(connection, query):\n",
      "    \"\"\"\n",
      "    Voer een query uit op een bestaande connection.\n",
      "\n",
      "    Geeft het resultaat van de query terug.\n",
      "\n",
      "    Parameters\n",
      "    ----------\n",
      "    connection      connection object\n",
      "                    Dit is het soort object dat wordt teruggeven door\n",
      "                    connect() methods van packages die voldoen aan de DB-API\n",
      "    query           str\n",
      "                    SQL-query geschreven als een gewone string\n",
      "\n",
      "    Returns\n",
      "    -------\n",
      "\n",
      "    \"\"\"\n",
      "\n",
      "    # Maak een cursor en voer query uit\n",
      "    cursor = connection.cursor()\n",
      "    cursor.execute(query)\n",
      "\n",
      "    # Haal het resultaat op\n",
      "    res = cursor.fetchall()\n",
      "\n",
      "    return res\n",
      "\n",
      "\n",
      "- --- - --- - --- - --- - --- - --- - - --- - --- - --- - --- - --- - --- -\n",
      "\n",
      "def res_to_df(query_result, column_names):\n",
      "    \"\"\"\n",
      "    Zet ruwe output van een query om naar een DataFrame met gegeven kolomnamen.\n",
      "\n",
      "    Let op: Het resultaat van de query moet dus exact evenveel kolommen bevatten\n",
      "    als kolomnamen die je meegeeft. Als dit niet het geval is, is dit een indicatie\n",
      "    dat je oplossing fout is. (Gezien wij de kolomnamen van de oplossing al cadeau doen)\n",
      "\n",
      "    Parameters\n",
      "    ----------\n",
      "    query_result:\n",
      "                    Resultaat van een uitgevoerde query zoals dat gegeven wordt\n",
      "                    door cursor.fetchall()\n",
      "    column_names    list\n",
      "                    Lijst van kolomnamen voor het resulterende DataFrame\n",
      "\n",
      "    Returns\n",
      "    -------\n",
      "    df:             pd.DataFrame\n",
      "                    DataFrame dat het resultaat bevat.\n",
      "\n",
      "    \"\"\"\n",
      "\n",
      "    df = pd.DataFrame(query_result, columns=column_names)\n",
      "    return df\n",
      "\n"
     ]
    }
   ],
   "source": [
    "print(\"\\n- --- - --- - --- - --- - --- - --- - - --- - --- - --- - --- - --- - --- -\\n\")\n",
    "print(getsource(verbind_met_GB))\n",
    "print(\"\\n- --- - --- - --- - --- - --- - --- - - --- - --- - --- - --- - --- - --- -\\n\")\n",
    "print(getsource(run_query))\n",
    "print(\"\\n- --- - --- - --- - --- - --- - --- - - --- - --- - --- - --- - --- - --- -\\n\")\n",
    "print(getsource(res_to_df))"
   ]
  },
  {
   "cell_type": "code",
   "execution_count": 5,
   "metadata": {},
   "outputs": [
    {
     "data": {
      "text/markdown": [
       "## 1.3 Kolomnamen en input parameters\n",
       "\n",
       "We leggen op voorhand reeds de **kolomnamen van de oplossingen**, en de **naam en types van de inputparameters** vast. Hier moet je je dus aan houden en mag je dus niks aan wijzigen.\n",
       "\n",
       "- Het aantal kolommen (en hun volgorde) van jullie oplossing en de onze **moeten** exact overeen komen. \n",
       "    - Vandaar dat de kolomnamen hieronder gegeven zijn. \n",
       "    - Dit komt trouwens van pas bij het opstellen van je queries! \n",
       "    - **KOLOMNAMEN NIET GERESPECTEERD OP EEN QUERY BETEKENT 0 PUNTEN OP DIE QUERY**\n",
       "    \n",
       "- Dankzij de voorbeeldparameters, die al gegeven zijn in de functiedefinitie e.g.: `query_42(connection, col_names, super_voorbeeldparam = ['joske', 'jef'])` weten jullie exact welke vorm en type (int, lijst, etc) de inputparameters moeten hebben. \n",
       "    - Wijzig zeker niets aan de naam van die parameters (*super_voorbeeldparam* blijft *super_voorbeeldparam*).\n",
       "    - De default waarden geven informatie over het type van de inputparameters (*super_voorbeeldparam* moet blijkbaar een lijst van strings zijn). \n",
       "    - Let wel: de default waarden zijn _louter ter illustratie, zorg ervoor dat je query ook met andere waarden dan de defaults werkt!_\n",
       "    - **NAAM OF TYPE VAN PARAMETER NIET GERESPECTEERD OP EEN QUERY BETEKENT 0 PUNTEN OP DIE QUERY**\n",
       "\n",
       "**Samengevat: oplossingen die deze vorm niet respecteren, CRASHEN op onze machines en resulteren in een score van 0 op die query.**\n"
      ],
      "text/plain": [
       "<IPython.core.display.Markdown object>"
      ]
     },
     "metadata": {},
     "output_type": "display_data"
    }
   ],
   "source": [
    "toon_uitleg(DOC_FPS.get(\"intro\"), sectie=4)"
   ]
  },
  {
   "cell_type": "code",
   "execution_count": 6,
   "metadata": {},
   "outputs": [
    {
     "name": "stdout",
     "output_type": "stream",
     "text": [
      "Kolomnamen van query_01: ['W', 'L', 'yearID', 'nameGiven', 'NameLast', 'teamID'] \n",
      "\n",
      "Kolomnamen van query_02: ['nameFirst', 'nameLast'] \n",
      "\n",
      "Kolomnamen van query_03: ['name', 'teamID'] \n",
      "\n",
      "Kolomnamen van query_04: ['nameLast', 'nameFirst', 'teamID', 'NumYears', 'AvgW', 'AvgR'] \n",
      "\n",
      "Kolomnamen van query_05: ['name', 'nameFirst', 'nameLast', 'HRs'] \n",
      "\n",
      "Kolomnamen van query_06: ['birthYear', 'birthMonth', 'birthDay', 'nameLast', 'nameFirst'] \n",
      "\n",
      "Kolomnamen van query_07: ['nameFirst', 'nameLast', 'awardID', 'yearID'] \n",
      "\n",
      "Kolomnamen van query_08: ['nameFirst', 'nameLast', 'Age', 'NrRankR'] \n",
      "\n"
     ]
    }
   ],
   "source": [
    "# Lees de dictionairy van kolomnamen in\n",
    "col_names = json.load(open(ALL_Q_COLNAM_FP, \"r\"))\n",
    "\n",
    "# Inspecteer de dictionairy van kolomnamen\n",
    "for k, v in col_names.items():\n",
    "    msg = \"Kolomnamen van {}: {} \\n\".format(k, v)\n",
    "    print(msg)"
   ]
  },
  {
   "cell_type": "code",
   "execution_count": 7,
   "metadata": {},
   "outputs": [
    {
     "data": {
      "text/markdown": [
       "# 2. Instructies bij gebruik van de notebook\n",
       "\n",
       "Hieronder volgen onvolledige functies (e.g., `query_42(connection, col_names, super_voorbeeldparam = ['joske', 'jef'])`). Aan jullie om ze aan te vullen zodat de functie:  \n",
       "\n",
       "1. Een corecte query opstelt\n",
       "2. De query uitvoert op de database\n",
       "3. Het resultaat teruggeeft in een DataFrame.\n",
       "\n",
       "Voor stap 2 en 3 zijn de nodige functies al voorhanden, i.e.: `run_query(connection, query)` en `res_to_df(res, column_names)`. Jullie werk zal dus vooral bestaan uit stap 1, queries opstellen. Elke functie heeft minstens 2 inputargumenten:\n",
       "\n",
       "1. `connection`:   Een connection object \n",
       "2. `column_names`: De kolomnamen van het \"DataFrame\" (i.e. de tabel met de resultaten van je query)\n",
       "    \n",
       "Gevolgd door eventuele extra argumenten (e.g., `super_voorbeeldparam = ['joske','jef']`) die dienen om parameters in de query te injecteren. \n",
       "\n",
       "**Nogmaals: verander niets aan de namen van de functies, namen van de functie-parameters en de kolomnamen van de resulterende DataFrames. Wijzigingen hieraan leiden onvermijdelijk tot een score van 0 op die query.**\n",
       "\n",
       "In deze notebook kan je naar believen extra cellen toevoegen om je queries te testen, resultaten te inspecteren etc. Daar _dient_ deze notebook immers voor: deze notebook wordt **niet ingediend** als oplossing.\n",
       "\n",
       "We vragen jullie om de finale, ingevulde functies te kopiëren naar een extern python script dat _enkel en alleen_ deze ingevulde functies bevat. Cf. de laatste sectie van deze notebook voor instructies omtrent hoe in te dienen.\n",
       "\n",
       "## 2.1 Voorbeeld-query opstellen\n",
       "\n",
       "Om jullie al wat op weg te zetten volgt hier een voorbeeldje over hoe je te werk kan gaan.\n",
       "\n",
       "**Beschrijving**\n",
       "\n",
       "Het resultaat van deze functie is een DataFrame met teamnaam, jaar en aantal homeruns van teams die meer dan een gegeven aantal `homeruns` hadden in dat jaar.\n",
       "\n",
       "Sorteer aflopend op aantal homeruns.\n",
       "\n",
       "**Oplossing**\n",
       "\n"
      ],
      "text/plain": [
       "<IPython.core.display.Markdown object>"
      ]
     },
     "metadata": {},
     "output_type": "display_data"
    }
   ],
   "source": [
    "toon_uitleg(DOC_FPS.get(\"instructions\"), sectie=[1, 2])"
   ]
  },
  {
   "cell_type": "code",
   "execution_count": 8,
   "metadata": {},
   "outputs": [],
   "source": [
    "# Voorbeeld-query (oplossing)\n",
    "def query_voorbeeld(connection, column_names, homeruns=20):\n",
    "    # Bouw je query\n",
    "    query = \"\"\"\n",
    "    select    t.name, t.yearID, t.HR\n",
    "    from      Teams as t\n",
    "    where     t.HR > {}\n",
    "    order by  t.HR DESC;\n",
    "    \"\"\".format(\n",
    "        homeruns\n",
    "    )\n",
    "    # TIP: Met \"format\" krijg je parameters in de string (samen met `{}` in de string zelf)\n",
    "\n",
    "    # Stap 2 & 3\n",
    "    res = run_query(connection, query)  # Query uitvoeren\n",
    "    df = res_to_df(res, column_names)  # Query in DataFrame brengen\n",
    "\n",
    "    return df"
   ]
  },
  {
   "cell_type": "code",
   "execution_count": 9,
   "metadata": {},
   "outputs": [
    {
     "data": {
      "text/markdown": [
       "## 2.2 Voorbeeld-query runnen\n",
       "\n",
       "Om een query te runnen maken we gebruik van de hulpfuncties die we eerder ter beschikking stelden (e.g. `verbind_met_GB`). Concreet bestaat dit proces uit twee stappen:\n",
       "\n",
       "1. Eerst maken we een verbindingsobject met de databank\n",
       "2. Vervolgens runnen we onze query, en inspecteren we het resultaat.\n"
      ],
      "text/plain": [
       "<IPython.core.display.Markdown object>"
      ]
     },
     "metadata": {},
     "output_type": "display_data"
    }
   ],
   "source": [
    "toon_uitleg(DOC_FPS.get(\"instructions\"), sectie=3)"
   ]
  },
  {
   "cell_type": "code",
   "execution_count": 10,
   "metadata": {
    "hidden": true
   },
   "outputs": [],
   "source": [
    "# Verbindingsobject aanmaken\n",
    "\n",
    "username = 'root'      # Vervang dit als je via een andere user queries stuurt\n",
    "hostname = 'localhost' # Als je een databank lokaal draait, is de hostname meestal gewoon \"localhost\"\n",
    "db = 'db-project'          # Naam van de gegevensbank op je XAMPP Mysql server\n",
    "\n",
    "# We verbinden met de gegevensbank, deze functie heeft als output een `connection-object`.\n",
    "c = verbind_met_GB(username, hostname, db, password='')"
   ]
  },
  {
   "cell_type": "code",
   "execution_count": 11,
   "metadata": {
    "hidden": true
   },
   "outputs": [
    {
     "data": {
      "text/html": [
       "<div>\n",
       "<style scoped>\n",
       "    .dataframe tbody tr th:only-of-type {\n",
       "        vertical-align: middle;\n",
       "    }\n",
       "\n",
       "    .dataframe tbody tr th {\n",
       "        vertical-align: top;\n",
       "    }\n",
       "\n",
       "    .dataframe thead th {\n",
       "        text-align: right;\n",
       "    }\n",
       "</style>\n",
       "<table border=\"1\" class=\"dataframe\">\n",
       "  <thead>\n",
       "    <tr style=\"text-align: right;\">\n",
       "      <th></th>\n",
       "      <th>name</th>\n",
       "      <th>yearID</th>\n",
       "      <th>HR</th>\n",
       "    </tr>\n",
       "  </thead>\n",
       "  <tbody>\n",
       "    <tr>\n",
       "      <th>2689</th>\n",
       "      <td>Philadelphia Phillies</td>\n",
       "      <td>1908</td>\n",
       "      <td>11</td>\n",
       "    </tr>\n",
       "    <tr>\n",
       "      <th>2690</th>\n",
       "      <td>Providence Grays</td>\n",
       "      <td>1881</td>\n",
       "      <td>11</td>\n",
       "    </tr>\n",
       "    <tr>\n",
       "      <th>2691</th>\n",
       "      <td>Providence Grays</td>\n",
       "      <td>1882</td>\n",
       "      <td>11</td>\n",
       "    </tr>\n",
       "    <tr>\n",
       "      <th>2692</th>\n",
       "      <td>St. Louis Brown Stockings</td>\n",
       "      <td>1882</td>\n",
       "      <td>11</td>\n",
       "    </tr>\n",
       "    <tr>\n",
       "      <th>2693</th>\n",
       "      <td>St. Louis Browns</td>\n",
       "      <td>1884</td>\n",
       "      <td>11</td>\n",
       "    </tr>\n",
       "  </tbody>\n",
       "</table>\n",
       "</div>"
      ],
      "text/plain": [
       "                           name  yearID  HR\n",
       "2689      Philadelphia Phillies    1908  11\n",
       "2690           Providence Grays    1881  11\n",
       "2691           Providence Grays    1882  11\n",
       "2692  St. Louis Brown Stockings    1882  11\n",
       "2693           St. Louis Browns    1884  11"
      ]
     },
     "execution_count": 11,
     "metadata": {},
     "output_type": "execute_result"
    }
   ],
   "source": [
    "# Query runnen, resultaat ophalen en inspecteren.\n",
    "\n",
    "# De query-functie verwacht als tweede parameter de kolomnamen van het resultaat.\n",
    "kolomnamen_voorbeeldquery = [\"name\", \"yearID\", \"HR\"]\n",
    "\n",
    "# Query-functie uitvoeren, geeft resultaat van de query in een DataFrame\n",
    "df = query_voorbeeld(c, kolomnamen_voorbeeldquery, homeruns=10)   \n",
    "\n",
    "# Inspecteer laatste resultaten (laat. tail() weg om alles te zien)\n",
    "df.tail()            "
   ]
  },
  {
   "cell_type": "code",
   "execution_count": 12,
   "metadata": {
    "hidden": true
   },
   "outputs": [
    {
     "data": {
      "text/html": [
       "<div>\n",
       "<style scoped>\n",
       "    .dataframe tbody tr th:only-of-type {\n",
       "        vertical-align: middle;\n",
       "    }\n",
       "\n",
       "    .dataframe tbody tr th {\n",
       "        vertical-align: top;\n",
       "    }\n",
       "\n",
       "    .dataframe thead th {\n",
       "        text-align: right;\n",
       "    }\n",
       "</style>\n",
       "<table border=\"1\" class=\"dataframe\">\n",
       "  <thead>\n",
       "    <tr style=\"text-align: right;\">\n",
       "      <th></th>\n",
       "      <th>name</th>\n",
       "      <th>yearID</th>\n",
       "      <th>HR</th>\n",
       "    </tr>\n",
       "  </thead>\n",
       "  <tbody>\n",
       "    <tr>\n",
       "      <th>2299</th>\n",
       "      <td>Philadelphia Phillies</td>\n",
       "      <td>1899</td>\n",
       "      <td>31</td>\n",
       "    </tr>\n",
       "    <tr>\n",
       "      <th>2300</th>\n",
       "      <td>Rochester Broncos</td>\n",
       "      <td>1890</td>\n",
       "      <td>31</td>\n",
       "    </tr>\n",
       "    <tr>\n",
       "      <th>2301</th>\n",
       "      <td>St. Louis Browns</td>\n",
       "      <td>1919</td>\n",
       "      <td>31</td>\n",
       "    </tr>\n",
       "    <tr>\n",
       "      <th>2302</th>\n",
       "      <td>St. Louis Browns</td>\n",
       "      <td>1897</td>\n",
       "      <td>31</td>\n",
       "    </tr>\n",
       "    <tr>\n",
       "      <th>2303</th>\n",
       "      <td>Washington Senators</td>\n",
       "      <td>1948</td>\n",
       "      <td>31</td>\n",
       "    </tr>\n",
       "  </tbody>\n",
       "</table>\n",
       "</div>"
      ],
      "text/plain": [
       "                       name  yearID  HR\n",
       "2299  Philadelphia Phillies    1899  31\n",
       "2300      Rochester Broncos    1890  31\n",
       "2301       St. Louis Browns    1919  31\n",
       "2302       St. Louis Browns    1897  31\n",
       "2303    Washington Senators    1948  31"
      ]
     },
     "execution_count": 12,
     "metadata": {},
     "output_type": "execute_result"
    }
   ],
   "source": [
    "# EXTRA: Query runnen met andere parameterwaarde\n",
    "df = query_voorbeeld(c, kolomnamen_voorbeeldquery, homeruns=30)\n",
    "df.tail()                                                "
   ]
  },
  {
   "cell_type": "markdown",
   "metadata": {},
   "source": [
    "## 3. Queries"
   ]
  },
  {
   "cell_type": "code",
   "execution_count": 13,
   "metadata": {},
   "outputs": [
    {
     "data": {
      "text/markdown": [
       "## 3.1 Query 01\n",
       "\n",
       "**Beschrijving**\n",
       "\n",
       "Voor elke manager, voor elke keer dat deze manager meer dan `X` games heeft, geef: het aantal wins, het aantal losses, het jaar, de gegeven naam en de achternaam van de manager, en het teamID.\n",
       "\n",
       "Sorteer eerst aflopend op wins, dan oplopend op: losses, jaar, teamID, achternaam en gegeven naam.\n",
       "\n"
      ],
      "text/plain": [
       "<IPython.core.display.Markdown object>"
      ]
     },
     "metadata": {},
     "output_type": "display_data"
    }
   ],
   "source": [
    "toon_uitleg(DOC_FPS.get(\"query_description\"), sectie=1)"
   ]
  },
  {
   "cell_type": "code",
   "execution_count": 14,
   "metadata": {},
   "outputs": [],
   "source": [
    "def query_01(connection, column_names, X=150):\n",
    "\n",
    "    # Bouw je query\n",
    "    query = \"\"\"\n",
    "    MAAK QUERY HIER\n",
    "    \"\"\"\n",
    "\n",
    "    # Stap 2 & 3\n",
    "    res = run_query(connection, query)  # Query uitvoeren\n",
    "    df = res_to_df(res, column_names)  # Query in DataFrame brengen\n",
    "\n",
    "    return df"
   ]
  },
  {
   "cell_type": "code",
   "execution_count": 15,
   "metadata": {},
   "outputs": [
    {
     "data": {
      "text/markdown": [
       "## 3.2 Query 02\n",
       "\n",
       "**Beschrijving**\n",
       "\n",
       "Geef de voornaam en achternaam van alle spelers geboren in de jaren '60 van de vorige eeuw.\n",
       "\n",
       "Sorteer achtereenvolgens alfabetisch oplopend op achternaam en voornaam.\n",
       "\n"
      ],
      "text/plain": [
       "<IPython.core.display.Markdown object>"
      ]
     },
     "metadata": {},
     "output_type": "display_data"
    }
   ],
   "source": [
    "toon_uitleg(DOC_FPS.get(\"query_description\"), sectie=2)"
   ]
  },
  {
   "cell_type": "code",
   "execution_count": 16,
   "metadata": {},
   "outputs": [],
   "source": [
    "def query_02(connection, column_names):\n",
    "\n",
    "    # Bouw je query\n",
    "    query = \"\"\"\n",
    "    MAAK QUERY HIER\n",
    "    \"\"\"\n",
    "\n",
    "    # Stap 2 & 3\n",
    "    res = run_query(connection, query)  # Query uitvoeren\n",
    "    df = res_to_df(res, column_names)  # Query in DataFrame brengen\n",
    "\n",
    "    return df"
   ]
  },
  {
   "cell_type": "code",
   "execution_count": 17,
   "metadata": {},
   "outputs": [
    {
     "data": {
      "text/markdown": [
       "## 3.3 Query 03\n",
       "\n",
       "**Beschrijving**\n",
       "\n",
       "Geef de namen en IDs van teams waarvan de naam een gegeven string `X` bevat. Het resultaat mag geen duplicaten bevatten.\n",
       "\n",
       "Sorteer achtereenvolgens oplopend op teamID en dan op naam.\n",
       "\n",
       "\n"
      ],
      "text/plain": [
       "<IPython.core.display.Markdown object>"
      ]
     },
     "metadata": {},
     "output_type": "display_data"
    }
   ],
   "source": [
    "toon_uitleg(DOC_FPS.get(\"query_description\"), sectie=3)"
   ]
  },
  {
   "cell_type": "code",
   "execution_count": 18,
   "metadata": {},
   "outputs": [],
   "source": [
    "def query_03(connection, column_names, X=\"Blue\"):\n",
    "\n",
    "    # Bouw je query\n",
    "    query = \"\"\"\n",
    "    MAAK QUERY HIER\n",
    "    \"\"\"\n",
    "\n",
    "    # Stap 2 & 3\n",
    "    res = run_query(connection, query)  # Query uitvoeren\n",
    "    df = res_to_df(res, column_names)  # Query in DataFrame brengen\n",
    "\n",
    "    return df"
   ]
  },
  {
   "cell_type": "code",
   "execution_count": 19,
   "metadata": {},
   "outputs": [
    {
     "data": {
      "text/markdown": [
       "## 3.4 Query 04\n",
       "\n",
       "**Beschrijving**\n",
       "\n",
       "Geef voor elke manager, voor elk team waarmee de manager gewerkt heeft gedurende minstens `X` jaar: de achternaam en de voornaam van de manager, het ID van het team, het aantal jaren dat de manager het team heeft gemanaged, het gemiddeld aantal wins en gemiddelde rank.\n",
       "\n",
       "Sorteer achtereenvolgens oplopend op gemiddelde rank, dan aflopend op: aantal jaar, aantal wins, teamID, achternaam en voornaam van de manager.\n",
       "\n",
       "\n"
      ],
      "text/plain": [
       "<IPython.core.display.Markdown object>"
      ]
     },
     "metadata": {},
     "output_type": "display_data"
    }
   ],
   "source": [
    "toon_uitleg(DOC_FPS.get(\"query_description\"), sectie=4)"
   ]
  },
  {
   "cell_type": "code",
   "execution_count": 20,
   "metadata": {},
   "outputs": [],
   "source": [
    "def query_04(connection, column_names, X=3):\n",
    "\n",
    "    # Bouw je query\n",
    "    query = \"\"\"\n",
    "    MAAK QUERY HIER\n",
    "    \"\"\"\n",
    "\n",
    "    # Stap 2 & 3\n",
    "    res = run_query(connection, query)  # Query uitvoeren\n",
    "    df = res_to_df(res, column_names)  # Query in DataFrame brengen\n",
    "\n",
    "    return df"
   ]
  },
  {
   "cell_type": "code",
   "execution_count": 21,
   "metadata": {},
   "outputs": [
    {
     "data": {
      "text/markdown": [
       "## 3.5 Query 05\n",
       "\n",
       "**Beschrijving**\n",
       "\n",
       "Geef voor een gegeven jaar `X`, voor elk team: de naam van dat team en de voornaam en de achternaam van de speler(s) met het hoogste totaal aantal homeruns in dat team in dat jaar, alsook dat aantal homeruns.\n",
       "\n",
       "Sorteer achtereenvolgens alfabetisch oplopend op teamnaam, dan achternaam, dan voornaam.\n",
       "\n",
       "\n"
      ],
      "text/plain": [
       "<IPython.core.display.Markdown object>"
      ]
     },
     "metadata": {},
     "output_type": "display_data"
    }
   ],
   "source": [
    "toon_uitleg(DOC_FPS.get(\"query_description\"), sectie=5)"
   ]
  },
  {
   "cell_type": "code",
   "execution_count": 22,
   "metadata": {},
   "outputs": [],
   "source": [
    "def query_05(connection, column_names, X=1975):\n",
    "\n",
    "    # Bouw je query\n",
    "    query = \"\"\"\n",
    "    MAAK QUERY HIER\n",
    "    \"\"\"\n",
    "\n",
    "    # Stap 2 & 3\n",
    "    res = run_query(connection, query)  # Query uitvoeren\n",
    "    df = res_to_df(res, column_names)  # Query in DataFrame brengen\n",
    "\n",
    "    return df"
   ]
  },
  {
   "cell_type": "code",
   "execution_count": 23,
   "metadata": {},
   "outputs": [
    {
     "data": {
      "text/markdown": [
       "## 3.6 Query 06\n",
       "\n",
       "**Beschrijving**\n",
       "\n",
       "Maak een lijst van spelers geboren op dezelfde datum als minstens 1 andere speler.\n",
       "Geef de geboortedatum, alsook de voor en achternaam van de spelers.\n",
       "\n",
       "Sorteer achtereenvolgens oplopend op geboortedatum, dan alfabetisch oplopend op achternaam en voornaam.\n",
       "\n",
       "Zorg ervoor dat je resultaat geen data bevat die duidelijk geen geboortedatum van een speler kunnen zijn, e.g. data als _3000-1-1_ or _1950-80-3_.\n",
       "\n",
       "\n",
       "\n"
      ],
      "text/plain": [
       "<IPython.core.display.Markdown object>"
      ]
     },
     "metadata": {},
     "output_type": "display_data"
    }
   ],
   "source": [
    "toon_uitleg(DOC_FPS.get(\"query_description\"), sectie=6)"
   ]
  },
  {
   "cell_type": "code",
   "execution_count": 24,
   "metadata": {},
   "outputs": [],
   "source": [
    "def query_06(connection, column_names):\n",
    "\n",
    "    # Bouw je query\n",
    "    query = \"\"\"\n",
    "    MAAK QUERY HIER\n",
    "    \"\"\"\n",
    "\n",
    "    # Stap 2 & 3\n",
    "    res = run_query(connection, query)  # Query uitvoeren\n",
    "    df = res_to_df(res, column_names)  # Query in DataFrame brengen\n",
    "\n",
    "    return df"
   ]
  },
  {
   "cell_type": "code",
   "execution_count": 25,
   "metadata": {},
   "outputs": [
    {
     "data": {
      "text/markdown": [
       "## 3.7 Query 07\n",
       "\n",
       "**Beschrijving**\n",
       "\n",
       "Maak een lijst van alle speler geboren in een gegeven jaar `X`. \n",
       "Per speler, geef voornaam en achternaam, alsook de eventuele awards gewonnen als speler.\n",
       "Voor elke award, geef de naam van die award en het jaar waarin de award gewonnen werd.\n",
       "\n",
       "Sorteer achtereenvolgens alfabetisch oplopend op achternaam, voornaam, naam van award en tenslotte oplopend op jaar.\n",
       "\n",
       "\n"
      ],
      "text/plain": [
       "<IPython.core.display.Markdown object>"
      ]
     },
     "metadata": {},
     "output_type": "display_data"
    }
   ],
   "source": [
    "toon_uitleg(DOC_FPS.get(\"query_description\"), sectie=7)"
   ]
  },
  {
   "cell_type": "code",
   "execution_count": 26,
   "metadata": {},
   "outputs": [],
   "source": [
    "def query_07(connection, column_names, X=1950):\n",
    "\n",
    "    # Bouw je query\n",
    "    query = \"\"\"\n",
    "    MAAK QUERY HIER\n",
    "    \"\"\"\n",
    "\n",
    "    # Stap 2 & 3\n",
    "    res = run_query(connection, query)  # Query uitvoeren\n",
    "    df = res_to_df(res, column_names)  # Query in DataFrame brengen\n",
    "\n",
    "    return df"
   ]
  },
  {
   "cell_type": "code",
   "execution_count": 27,
   "metadata": {},
   "outputs": [
    {
     "data": {
      "text/markdown": [
       "## 3.8 Query 08\n",
       "\n",
       "**Beschrijving**\n",
       "\n",
       "Maak een lijst van managers die een gegeven rank `R` minstens éénmaal hebben bereikt.\n",
       "Voor elk van die managers, geef: voornaam, achternaam, leeftijd (in jaren) waarop ze de eerste keer die rank bereikt hebben en de naam van het team waarmee dit gebeurde, alsook het totale aantal keren dat ze die rank bereikt hebben.\n",
       "\n",
       "Sorteer achtereenvolgens oplopend op leeftijd, dan alfabetich oplopend op: achternaam en voornaam.\n",
       "\n",
       "Zorg ervoor dat je enkel managers beschouwt die, ten tijde van hun eerste rank `R`, niet meer dan een gegeven aantal `N` jaren ouder waren dan de leeftijd van de jongste manager die ooit rank `R` wist te bereiken.\n"
      ],
      "text/plain": [
       "<IPython.core.display.Markdown object>"
      ]
     },
     "metadata": {},
     "output_type": "display_data"
    }
   ],
   "source": [
    "toon_uitleg(DOC_FPS.get(\"query_description\"), sectie=8)"
   ]
  },
  {
   "cell_type": "code",
   "execution_count": 28,
   "metadata": {},
   "outputs": [],
   "source": [
    "def query_08(connection, column_names, N=5, R=1):\n",
    "\n",
    "    # Bouw je query\n",
    "    query = \"\"\"\n",
    "    MAAK QUERY HIER\n",
    "    \"\"\"\n",
    "\n",
    "    # Stap 2 & 3\n",
    "    res = run_query(connection, query)  # Query uitvoeren\n",
    "    df = res_to_df(res, column_names)  # Query in DataFrame brengen\n",
    "\n",
    "    return df"
   ]
  },
  {
   "cell_type": "code",
   "execution_count": 29,
   "metadata": {},
   "outputs": [
    {
     "data": {
      "text/markdown": [
       "## 4. Hoe en wat in te dienen?\n",
       "\n",
       "Nu je alle queries ingevuld (en getest) hebt, ben je klaar om je taak in te dienen. **De deadline wordt gecommuniceerd via Toledo.**\n",
       "\n",
       "1. **Maak een leeg bestand** aan, en geef het de bestandsnaam met formaat: `achternaam_voornaam_studentennummer.py`.\n",
       "    - `achternaam` verwijst naar je achternaam, bijvoorbeeld `Lemaître`\n",
       "    - `voornaam`  verwijst naar je voornaam, bijvoorbeeld `Georges`\n",
       "    - `studentennummer` is je studentennummer zoals vermeld op je studentenkaart, bijvoorbeeld `r0123456`\n",
       "    -  Een goede bestandsnaam is dus bijvoorbeeld: `lemaitre_georges_r0123456.py`  \n",
       "    \n",
       "2. Kopieer **ALLE INGEVULDE FUNCTIES EN NIETS ANDERS** naar dit bestand. Het bevat dus _enkel en alleen_ de functies: `query_01`, `query_02`, etc.  \n",
       "\n",
       "3. **TIP**: om te testen dat je oplossing deftig runt, kan je gebruik maken van de `verification.ipynb` notebook!\n",
       "    - Eerst worden je functies ingelezen vanuit het zonet aangemaakte python bestand (e.g. `lemaitre_georges_r0123456.py`).\n",
       "    - Die functies worden dan automatisch gerund op je database, met verschillende parameters.\n",
       "    - De resultaten worden uitgeschreven als `.csv` files (in de `out` folder)\n",
       "    - Dit helpt om zeker te zijn dat je `achternaam_voornaam_studentennummer.py` bestand correct werkt.\n",
       "        - Als een query crasht, zal er dus geen resultaat worden uitgeschreven!\n",
       "        - Als een query niet crasht, kan je de resultaten inspecteren.  \n",
       "        \n",
       "4. **TIP**: voor de eerste query kan je je oplossing zelfs _evalueren_ via de `verification.ipynb` notebook!\n",
       "    - De output `.csv` file van jouw oplossing wordt vergeleken met de `.csv` van de modeloplossing (te vinden in de `solution` folder).\n",
       "    - Jouw oplossing krijgt een score toegekend. Cf. https://en.wikipedia.org/wiki/F1_score. \n",
       "    - Al dan niet correct sorteren is verantwoordelijk voor 10% van je score.\n",
       "    - Een kort rapport wordt weergegeven. Dit vertelt je wat er eventueel mis is met je oplossing. \n",
       "        - TP: True Positives\n",
       "        - TN: True Negatives\n",
       "        - FP: False Positives\n",
       "    - Dit kan je helpen om je oplossing te debuggen.\n",
       "    - Voor de andere queries houden we de modeloplossingen geheim tot na de deadline.\n",
       "        - Hier moet je dus zelf de resultaten inspecteren om jezelf ervan te overtuigen dat deze inderdaad correct zijn.  \n",
       "        \n",
       "5. Als je oplossing definitief is, submit je je `achternaam_voornaam_studentennummer.py` bestand via Toledo.  \n",
       "\n",
       "6. Nogmaals, als finale submissie verwachten we dus _enkel_ een python bestand (e.g., `achternaam_voornaam_studentennummer.py`) dat jullie ingevulde functies bevat en niks anders.\n",
       "    - Wij evalueren jullie ingediende python bestanden ook via de `verification.ipynb` notebook\n",
       "    - Zoals zonet uitgelegd laat de `verification.ipynb` notebook je toe om zelf te checken dat je bestand deftig runt zonder te crashen etc. **Als op het op je eigen machine al niet werkt, is de kans miniem dat het bij ons wel zo zal zijn.**\n"
      ],
      "text/plain": [
       "<IPython.core.display.Markdown object>"
      ]
     },
     "metadata": {},
     "output_type": "display_data"
    }
   ],
   "source": [
    "toon_uitleg(DOC_FPS.get(\"submissions\"), sectie=1)"
   ]
  }
 ],
 "metadata": {
  "kernelspec": {
   "display_name": "db",
   "language": "python",
   "name": "db"
  },
  "language_info": {
   "codemirror_mode": {
    "name": "ipython",
    "version": 3
   },
   "file_extension": ".py",
   "mimetype": "text/x-python",
   "name": "python",
   "nbconvert_exporter": "python",
   "pygments_lexer": "ipython3",
   "version": "3.9.2"
  },
  "toc": {
   "nav_menu": {},
   "number_sections": true,
   "sideBar": true,
   "skip_h1_title": true,
   "toc_cell": false,
   "toc_position": {
    "height": "887px",
    "left": "0px",
    "right": "1705px",
    "top": "107px",
    "width": "215px"
   },
   "toc_section_display": true,
   "toc_window_display": true
  },
  "toc-autonumbering": false
 },
 "nbformat": 4,
 "nbformat_minor": 4
}
